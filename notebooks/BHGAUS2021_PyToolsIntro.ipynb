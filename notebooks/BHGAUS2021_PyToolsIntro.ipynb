{
 "cells": [
  {
   "cell_type": "markdown",
   "metadata": {},
   "source": [
    "# Brainhack Global 2021 - Intro to writing Python tools\n",
    "\n",
    "## Pre-requisites\n",
    "Before you run through this notebook, make sure you've completed the following steps:\n",
    "- Installed conda or miniconda\n",
    "- Created a conda environment from the \"environment.yaml\" file in the repository. To do this, run the following command in your terminal: `conda create -n simplesig python=3.8 numpy ipykernel`\n",
    "- Made sure that the kernel for this notebook is the python installed in your new environment (\"simplesig\")\n",
    "\n",
    "## Overview\n",
    "Welcome to the Brainhack Global Australasia 2021 Python workshop! Over the course of this workshop, you'll learn how to create functional python-based analysis tools. We'll run through the following steps:\n",
    "- Write python code to:\n",
    "    - Generate a simple artificial signal\n",
    "    - Run some simple frequency decomposition analyses on this signal\n",
    "    - Plot the results with [holoviews](https://holoviews.org/getting_started/index.html)\n",
    "- Implement your newly written code in functions\n",
    "- Compile these functions into a pip-installable module\n",
    "- Compile these functions into a command-line script\n",
    "\n",
    "## Step 1: Import modules\n",
    "Over the course of this tutorial, you'll have to load in a number of python \"modules\" to run the code. These are scripts that other people have written and made available for us to use, so that we don't have to write everything from scratch! By creating the conda environment at the begining of the session, we downloaded these scripts and are now able to use them in this script as long as we \"import\" the module that they are stored under. \n",
    "\n",
    "It's good practice to keep all of these imports in the same place, so as you need to add each new module in the tutorial, make sure you add the call to import them in the cell below. \n",
    "\n",
    "We'll start with just the [numpy](https://numpy.org/) package (_\"The fundamental package for scientific computing with Python\"_ )."
   ]
  },
  {
   "cell_type": "code",
   "execution_count": null,
   "metadata": {},
   "outputs": [],
   "source": [
    "# Import modules\n",
    "import numpy as np"
   ]
  },
  {
   "cell_type": "markdown",
   "metadata": {},
   "source": [
    "## Step 2: Learn about scipy.signal.gausspulse\n",
    "When setting up a new data analysis pipeline, a good starting point is to use some artificial data in which you know the ground truth properties of the signal. In this tutorial we'll be running frequency decomposition analyses. We'll therefore begin by generating an artificial signal with a number of different frequency-specific signals embedded at different times without the signal. By doing this, we can evaluate how well different algorithms are able to extract this information from our signal. \n",
    "\n",
    "To generate these frequency-specific signals, we'll be using the [gausspulse](https://docs.scipy.org/doc/scipy/reference/generated/scipy.signal.gausspulse.html) function from the scipy-signal toolbox. Lets begin by creating an example gaussian pulse so you can get an idea of how this function works. But first:\n",
    "\n",
    "_Add `from scipy import signal` to the import modules cell above, and run it again._"
   ]
  },
  {
   "cell_type": "code",
   "execution_count": null,
   "metadata": {},
   "outputs": [],
   "source": [
    "# Set parameters\n",
    "frequency = 10 # get a signal at 10 Hz\n",
    "width = 2 # What \"width\" in time should the gaussian envelope around our sin wave be\n",
    "amplitude = 3 # What amplitude should the sinusoidal signal be?\n",
    "fs = 1024 # set an artificial \"sampling frequency\"; the number of datapoints per second to generate\n",
    "t = np.arange(-1, 1, 1/fs) # A vector of times that will correspond to our datapoints\n",
    "\n",
    "# Generate the signal\n",
    "pulse = signal.gausspulse(t, fc=frequency, bw=2/(frequency * width ))*amplitude"
   ]
  },
  {
   "cell_type": "markdown",
   "metadata": {},
   "source": [
    "## Step 3: Visualise the gaussian pulse using Holoviews\n",
    "In this tutorial, we'll use [holoviews](https://holoviews.org/getting_started/index.html) to plot our data. This is a powerful package for data visualisation that will allow us to create interactive graphs. Feel free to have a look at their website for some examples of the types of plots you can make. \n",
    "\n",
    "We'll use the [bokeh](https://bokeh.org/) extension of holoviews so that we can make our plots interactive. Bokeh also allows you to turn your plots into a widget which you can embed in a PDF or website, so that your readers can dynamically plot different aspects of your data (i.e. scroll through different EEG channels). \n",
    "\n",
    "To use this package, we'll have to add a couple more lines to our \"import modules\" cell above:\n",
    "```\n",
    "import holoviews as hv # This imports the holoviews module\n",
    "hv.extension('bokeh') # Let's use interactive plots based on the 'bokeh' library\n",
    "hv.renderer('bokeh').theme = 'dark_minimal' # We'll use a dark theme for our plots, because dark themes are cool. \n",
    "```\n",
    "\n",
    "_Remember to run the cell again once you've added this code!_\n"
   ]
  },
  {
   "cell_type": "code",
   "execution_count": null,
   "metadata": {},
   "outputs": [],
   "source": [
    "# Create a line plot with our signal\n",
    "curve = hv.Curve((t, pulse), 'Time (s)', 'Signal Amplitude')\n",
    "\n",
    "# Set some options for how our signal will be plotted and display the plot\n",
    "curve.opts(hv.opts.Curve(line_width=1, line_color='yellow', width=500))"
   ]
  },
  {
   "cell_type": "markdown",
   "metadata": {},
   "source": [
    "You should notice that the gaussian pulse above is centred around time: 0. To shift the pulse around in time, we can manipulate the `t` variable when generating the pulse; setting the time we would like the pulse to be centred around as time:0 for the signal generation. This shift is implemented this in the cell below. Play around with the shift and other signal properties until you feel like you understand what all the variables do. "
   ]
  },
  {
   "cell_type": "code",
   "execution_count": null,
   "metadata": {},
   "outputs": [],
   "source": [
    "# Set parameters\n",
    "frequency = 10 # get a signal at 10 Hz\n",
    "width = 2 # What \"width\" in time should the gaussian envelope around our sin wave be\n",
    "amplitude = 3 # What amplitude should the sinusoidal signal be?\n",
    "time = 5 # What time in the signal should the pulse be centred at?\n",
    "fs = 1000 # set an artificial \"sampling frequency\"; the number of datapoints per second to generate\n",
    "t = np.arange(0, 10, 1/fs) # A vector of times that will correspond to our datapoints\n",
    "\n",
    "# Generate the signal\n",
    "pulse = signal.gausspulse(t - time, fc=frequency, bw=2/(frequency * width)) * amplitude\n",
    "\n",
    "# Create a line plot with our signal\n",
    "curve = hv.Curve((t, pulse), 'Time (s)', 'Signal Amplitude')\n",
    "\n",
    "# Set some options for how our signal will be plotted and display the plot\n",
    "curve.opts(hv.opts.Curve(line_width=1, line_color='yellow', width=500))"
   ]
  },
  {
   "cell_type": "markdown",
   "metadata": {},
   "source": [
    "## Step 4: List comprehension in Python - An elegent weapon for a more civilised script\n",
    "\n",
    "Consider a situation where you want to perform the same operation on multiple sets of inputs, say from a list, and store the outputs in a second list. Where possible, the most efficient solution is to use a _vectorised_ function in which the operation is performed across all elements at once:"
   ]
  },
  {
   "cell_type": "code",
   "execution_count": null,
   "metadata": {},
   "outputs": [],
   "source": [
    "# Generate a python list\n",
    "angles = [10, 45, 80]\n",
    "\n",
    "# convert our angles from degrees to radians, and then take the sin\n",
    "x = np.sin(np.deg2rad(angles))\n",
    "\n",
    "# Display the result\n",
    "print(x)"
   ]
  },
  {
   "cell_type": "markdown",
   "metadata": {},
   "source": [
    "There are, however, many situations in which vectorised functions are not available. Let's say you've created a complex function (but you haven't got the time or resources to vectorise it - in this case we rely on the built-in python math functions instead of the numpy vectorised functions):"
   ]
  },
  {
   "cell_type": "code",
   "execution_count": null,
   "metadata": {},
   "outputs": [],
   "source": [
    "from math import sin, radians\n",
    "\n",
    "def opposite(angle: float, hypotenuse: float) -> float:\n",
    "    '''Calculates the length of a triangle's side opposite the angle.\n",
    "    '''\n",
    "    return sin(radians(angle)) * hypotenuse"
   ]
  },
  {
   "cell_type": "markdown",
   "metadata": {},
   "source": [
    "If we try to call this function with our list of angles, we'll get an error. One option would be to use a for loop."
   ]
  },
  {
   "cell_type": "code",
   "execution_count": null,
   "metadata": {},
   "outputs": [],
   "source": [
    "# for each individual angle in the list of angles, call the function\n",
    "# 'opposite' and append the return value to a list\n",
    "x = []\n",
    "hypotenuse = 10\n",
    "for angle in angles:\n",
    "    x.append(opposite(angle, hypotenuse))\n",
    "\n",
    "# Display the result\n",
    "print(x)"
   ]
  },
  {
   "cell_type": "markdown",
   "metadata": {},
   "source": [
    "Here we had to initialise an empty list, then explicitly append to that list as we iterate through the angles. Because the goal in this case is simply to create a list, Python provides a more concise approach called a _list comprehension_:"
   ]
  },
  {
   "cell_type": "code",
   "execution_count": null,
   "metadata": {},
   "outputs": [],
   "source": [
    "# iterate through values of orientation using list comprehension\n",
    "x = [opposite(angle, hypotenuse) for angle in angles]\n",
    "\n",
    "# Display the result\n",
    "print(x)"
   ]
  },
  {
   "cell_type": "markdown",
   "metadata": {},
   "source": [
    "It is even possible to iterate through multiple input lists simultaneously, by using a function called _zip_. This turns multiple iterable objects like lists, and turns them into an iterable list of _tuples_:"
   ]
  },
  {
   "cell_type": "code",
   "execution_count": null,
   "metadata": {},
   "outputs": [],
   "source": [
    "# Generate an additional python list\n",
    "hypotenuses = [3, 5, 11]\n",
    "\n",
    "# iterate through values of orientation and hypotenuse using list comprehension\n",
    "opposite = [opposite(angle, hypotenuse)\n",
    "            for angle, hypotenuse in zip(angles, hypotenuses)]\n",
    "\n",
    "# Display the result\n",
    "print(opposite)"
   ]
  },
  {
   "cell_type": "markdown",
   "metadata": {},
   "source": [
    "List comprehension can also include logic, and can even replace nested for loops! We won't cover these topics in this tutorial but feel free to look into what lists can do for you later. \n",
    "\n",
    "## Step 5: We're ready to make some artificial data!\n",
    "As discussed at the beginning of the tutorial, we aim to make a simple artificial signal with some frequency specific signals embedded at specific times. To begin, lets set the parameters of this signal, we can always change these later to change different aspects of our signal. "
   ]
  },
  {
   "cell_type": "code",
   "execution_count": null,
   "metadata": {},
   "outputs": [],
   "source": [
    "# set signal parameters\n",
    "duration = 15 # How long will our signal run for\n",
    "fs = 1000 # What sampling frequency should we use\n",
    "times = [2.5, 7.5, 12.5] # What times should the envelopes around the frequency specific signals be centred at?\n",
    "widths = [12, 12, 12] # How wide should our pulses be (in time)?\n",
    "frequencies = [3, 7, 11] # What frequencies should we embed in the signal?\n",
    "amplitudes = [1, 1, 1] # What amplitude should the pulses be?"
   ]
  },
  {
   "cell_type": "markdown",
   "metadata": {},
   "source": [
    "Using the variables above, create a `t` variable to align with our artificial signal (_hint: have a look at the gaussian pulse we made earlier_)"
   ]
  },
  {
   "cell_type": "code",
   "execution_count": null,
   "metadata": {},
   "outputs": [],
   "source": [
    "# Generate a time vector\n",
    "t = ..."
   ]
  },
  {
   "cell_type": "markdown",
   "metadata": {},
   "source": [
    "Next, use list comprehention to create a list of pulses, iterating through the pulse times, widths, frequencies, and amplitudes (_hint: Yes, you can create a list of numpy arrays!_)"
   ]
  },
  {
   "cell_type": "code",
   "execution_count": null,
   "metadata": {},
   "outputs": [],
   "source": [
    "# Loop through gaussian pulses that we want to generate\n",
    "pulses = ..."
   ]
  },
  {
   "cell_type": "markdown",
   "metadata": {},
   "source": [
    "You should now have a list of gaussian pulses, all with unique properties. However, in real data, these types of frequency and time specific pulses of activity would all be present within a single signal, and we would need to use computational methods to separate them out. To simulate this mixture of signals, let's add our lists together into a single signal (_hint: look at the documentation for [np.stack](https://numpy.org/doc/stable/reference/generated/numpy.stack.html) and [np.sum](https://numpy.org/doc/stable/reference/generated/numpy.sum.html)_)"
   ]
  },
  {
   "cell_type": "code",
   "execution_count": null,
   "metadata": {},
   "outputs": [],
   "source": [
    "# Combine pulses into one signal. \n",
    "sig = ..."
   ]
  },
  {
   "cell_type": "markdown",
   "metadata": {},
   "source": [
    "Congratulations, you have a signal! Use holoviews to visualise it, like we did to the gaussian pulses above."
   ]
  },
  {
   "cell_type": "code",
   "execution_count": null,
   "metadata": {},
   "outputs": [],
   "source": [
    "# Create a plot here!\n"
   ]
  },
  {
   "cell_type": "markdown",
   "metadata": {},
   "source": [
    "## Step 6: Processing the artificial signal\n",
    "We now have a single signal with a number of distinct frequency pulses imbedded within it. We neuroscientists work with signals like this all the time, and we have some tools to process them and segment out the activity at different frequencies and times. We'll run two signal processing steps in the next cell.\n",
    "\n",
    "The first is a frequency transformation using [Welch's method](https://docs.scipy.org/doc/scipy/reference/generated/scipy.signal.welch.html). This transformation allows us to visualise how strongly different frequencies are represented in our signal overall.  \n",
    "\n",
    "The second is a time-frequency transformation using a Short Time Fourier Transform [STFT](https://docs.scipy.org/doc/scipy/reference/generated/scipy.signal.stft.html). This transformation allows us to visualise how strongly different frequencies are represented in the signal at different times. \n",
    "\n",
    "Click the links to the documentation for the scipy functions implementing these two transforms to read more about them :)"
   ]
  },
  {
   "cell_type": "code",
   "execution_count": null,
   "metadata": {},
   "outputs": [],
   "source": [
    "# Run Frequency transformation\n",
    "f, Pxx = signal.welch(sig, fs, nperseg=fs*5)\n",
    "\n",
    "# Run time-frequency transformation\n",
    "f_spec, t_spec, spec = signal.spectrogram(sig, fs, nperseg=fs, noverlap=fs*3/4, scaling='density')"
   ]
  },
  {
   "cell_type": "markdown",
   "metadata": {},
   "source": [
    "Now create a plot of the results of your frequency decomposition."
   ]
  },
  {
   "cell_type": "code",
   "execution_count": null,
   "metadata": {},
   "outputs": [],
   "source": [
    "power_dim = hv.Dimension('power', label='Power', unit='V^2/Hz')\n",
    "time_dim = hv.Dimension('time', label='Time', unit='s')\n",
    "freq_dim = hv.Dimension('freq', label='Frequency', unit='Hz')\n",
    "\n",
    "plot_opts = (\n",
    "    hv.opts.Curve(frame_width=100, frame_height=400, yaxis=None,\n",
    "               ylim=(1, 50), line_color='yellow'),\n",
    "    hv.opts.QuadMesh(frame_width=600, frame_height=400, ylim=(1, 50),\n",
    "                    cmap='plasma')\n",
    ")\n",
    "(hv.QuadMesh((t_spec, f_spec, spec), kdims=[time_dim, freq_dim]) +\n",
    " hv.Curve((np.sqrt(Pxx), f), power_dim, freq_dim)).opts(*plot_opts)\n"
   ]
  },
  {
   "cell_type": "markdown",
   "metadata": {},
   "source": [
    "## Step 7: Congratulations! \n",
    "You've completed phase 1 of the tutorial. See your friendly instructors Chris and Angie for further instruction :)"
   ]
  }
 ],
 "metadata": {
  "interpreter": {
   "hash": "dd6b84b09be40980538de6a7385e9b3ecf6dd8684c1f843e0fbcd3ff95107c3e"
  },
  "kernelspec": {
   "display_name": "Python 3.8.12 64-bit ('ohbm2': conda)",
   "language": "python",
   "name": "python3"
  },
  "language_info": {
   "codemirror_mode": {
    "name": "ipython",
    "version": 3
   },
   "file_extension": ".py",
   "mimetype": "text/x-python",
   "name": "python",
   "nbconvert_exporter": "python",
   "pygments_lexer": "ipython3",
   "version": "3.8.12"
  },
  "orig_nbformat": 4
 },
 "nbformat": 4,
 "nbformat_minor": 2
}
